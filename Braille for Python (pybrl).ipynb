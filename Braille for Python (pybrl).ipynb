{
 "metadata": {
  "name": "",
  "signature": "sha256:2feec78ea087dba9a65aafe981045bb9def80d726dc4f2ec4c93d7ade24d9709"
 },
 "nbformat": 3,
 "nbformat_minor": 0,
 "worksheets": [
  {
   "cells": [
    {
     "cell_type": "heading",
     "level": 1,
     "metadata": {},
     "source": [
      "Braille (6-dot cell patterns) notation and conversion library for Python"
     ]
    },
    {
     "cell_type": "code",
     "collapsed": false,
     "input": [
      "import pybrl"
     ],
     "language": "python",
     "metadata": {},
     "outputs": [],
     "prompt_number": 1
    },
    {
     "cell_type": "code",
     "collapsed": false,
     "input": [
      "print pybrl.braille(\"braille for python is cool!\")"
     ],
     "language": "python",
     "metadata": {},
     "outputs": [
      {
       "output_type": "stream",
       "stream": "stdout",
       "text": [
        "\u2803\u2817\u2801\u280a\u2807\u2807\u2811\u2800\u280b\u2815\u2817\u2800\u280f\u283d\u281e\u2813\u2815\u281d\u2800\u280a\u280e\u2800\u2809\u2815\u2815\u2807\u282e\n"
       ]
      }
     ],
     "prompt_number": 2
    },
    {
     "cell_type": "code",
     "collapsed": false,
     "input": [
      "print pybrl.ascii(\"\u2803\u2817\u2801\u280a\u2807\u2807\u2811\u2800\u280b\u2815\u2817\u2800\u280f\u283d\u281e\u2813\u2815\u281d\u2800\u280a\u280e\u2800\u2809\u2815\u2815\u2807\u282e\")"
     ],
     "language": "python",
     "metadata": {},
     "outputs": [
      {
       "output_type": "stream",
       "stream": "stdout",
       "text": [
        "braille for python is cool!\n"
       ]
      }
     ],
     "prompt_number": 3
    },
    {
     "cell_type": "code",
     "collapsed": false,
     "input": [
      "print ' '.join(pybrl.convert(\"braille for python is cool!\", pybrl.hexcodes, pybrl.asciicodes))"
     ],
     "language": "python",
     "metadata": {},
     "outputs": [
      {
       "output_type": "stream",
       "stream": "stdout",
       "text": [
        "42 52 41 49 4c 4c 45 20 46 4f 52 20 50 59 54 48 4f 4e 20 49 53 20 43 4f 4f 4c 21\n"
       ]
      }
     ],
     "prompt_number": 4
    },
    {
     "cell_type": "code",
     "collapsed": false,
     "input": [
      "d = ['1-2', '1-2-3-5', '1', '2-4', '1-2-3', '1-2-3', '1-5', '', \n",
      "     '1-2-4', '1-3-5', '1-2-3-5', '', '1-2-3-4', '1-3-4-5-6', \n",
      "     '2-3-4-5', '1-2-5', '1-3-5', '1-3-4-5', '', '2-4', '2-3-4', '', \n",
      "     '1-4', '1-3-5', '1-3-5', '1-2-3', '2-3-4-6']\n",
      "\n",
      "print ''.join(pybrl.dot2braille(d))"
     ],
     "language": "python",
     "metadata": {},
     "outputs": [
      {
       "output_type": "stream",
       "stream": "stdout",
       "text": [
        "\u2803\u2817\u2801\u280a\u2807\u2807\u2811\u2800\u280b\u2815\u2817\u2800\u280f\u283d\u281e\u2813\u2815\u281d\u2800\u280a\u280e\u2800\u2809\u2815\u2815\u2807\u282e\n"
       ]
      }
     ],
     "prompt_number": 5
    },
    {
     "cell_type": "code",
     "collapsed": false,
     "input": [
      "print pybrl.braille(\"pybrl\")"
     ],
     "language": "python",
     "metadata": {},
     "outputs": [
      {
       "output_type": "stream",
       "stream": "stdout",
       "text": [
        "\u280f\u283d\u2803\u2817\u2807\n"
       ]
      }
     ],
     "prompt_number": 6
    }
   ],
   "metadata": {}
  }
 ]
}